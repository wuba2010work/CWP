{
  "nbformat": 4,
  "nbformat_minor": 0,
  "metadata": {
    "colab": {
      "provenance": [],
      "authorship_tag": "ABX9TyPWWsSwZYIgMGsENwXOP/RO",
      "include_colab_link": true
    },
    "kernelspec": {
      "name": "python3",
      "display_name": "Python 3"
    },
    "language_info": {
      "name": "python"
    }
  },
  "cells": [
    {
      "cell_type": "markdown",
      "metadata": {
        "id": "view-in-github",
        "colab_type": "text"
      },
      "source": [
        "<a href=\"https://colab.research.google.com/github/wuba2010work/CWP/blob/main/NPP_estimation_CASA.ipynb\" target=\"_parent\"><img src=\"https://colab.research.google.com/assets/colab-badge.svg\" alt=\"Open In Colab\"/></a>"
      ]
    },
    {
      "cell_type": "code",
      "execution_count": 1,
      "metadata": {
        "id": "v6eb-mW_SKxe"
      },
      "outputs": [],
      "source": [
        "import numpy as np\n",
        "import xarray as xr\n",
        "\n",
        "def calculate_fPAR(NDVI, NDVI_min, NDVI_max, fPAR_max, fPAR_min):\n",
        "    \"\"\"\n",
        "    Calculates fPAR using the provided equation.\n",
        "\n",
        "    Args:\n",
        "        NDVI: A NumPy array or a single value representing the NDVI.\n",
        "        NDVI_min: The minimum NDVI value.\n",
        "        NDVI_max: The maximum NDVI value.\n",
        "        fPAR_max: The maximum fPAR value.\n",
        "        fPAR_min: The minimum fPAR value.\n",
        "\n",
        "    Returns:\n",
        "        A NumPy array or a single value representing the calculated fPAR.\n",
        "    \"\"\"\n",
        "\n",
        "    # Ensure inputs are compatible for array operations\n",
        "    NDVI = np.asarray(NDVI)  # Convert NDVI to a NumPy array if it's not already\n",
        "\n",
        "    # Handle the case where NDVI_max - NDVI_min is zero to avoid division by zero\n",
        "    denominator = NDVI_max - NDVI_min\n",
        "    if denominator == 0:\n",
        "        # If NDVI_max and NDVI_min are equal, NDVI will always be the same, so FPAR will be constant\n",
        "        fPAR = np.full_like(NDVI, fPAR_min) # Or fPAR_max, it doesn't matter since NDVI is constant\n",
        "    else:\n",
        "        fPAR = (NDVI - NDVI_min) * (fPAR_max - fPAR_min) / denominator + fPAR_min\n",
        "\n",
        "    return fPAR"
      ]
    },
    {
      "cell_type": "code",
      "source": [],
      "metadata": {
        "id": "AKFUPHd70xVB"
      },
      "execution_count": null,
      "outputs": []
    },
    {
      "cell_type": "code",
      "source": [
        "# calculate LUE parametres\n",
        "\n",
        "\n",
        "\n",
        "def compute_T_e1(T_opt):\n",
        "    \"\"\"\n",
        "    Computes the temperature stress factor T_e1 based on the optimal temperature.\n",
        "\n",
        "    Parameters:\n",
        "    T_opt : numpy array\n",
        "        Optimal temperature for each pixel (x) and time (t).\n",
        "\n",
        "    Returns:\n",
        "    T_e1 : numpy array\n",
        "        Temperature stress factor 1 for each pixel (x) and time (t).\n",
        "    \"\"\"\n",
        "    return 0.8 + 0.002 * T_opt - 0.0005 * (T_opt ** 2)\n",
        "\n",
        "def compute_T_e2(T_opt, T_actual):\n",
        "    \"\"\"\n",
        "    Computes the temperature stress factor T_e2 based on the optimal and actual temperatures.\n",
        "\n",
        "    Parameters:\n",
        "    T_opt : numpy array\n",
        "        Optimal temperature for each pixel (x) and time (t).\n",
        "    T_actual : numpy array\n",
        "        Actual temperature for each pixel (x) and time (t).\n",
        "\n",
        "    Returns:\n",
        "    T_e2 : numpy array\n",
        "        Temperature stress factor 2 for each pixel (x) and time (t).\n",
        "    \"\"\"\n",
        "    term1 = 1 + np.exp(0.2 * (T_opt - 10 - T_actual))\n",
        "    term2 = 1 + np.exp(0.3 * (-T_opt - 10 + T_actual))\n",
        "    return 1.184 / (term1 * term2)\n",
        "\n",
        "def compute_W_e(EET, PET):\n",
        "    \"\"\"\n",
        "    Computes the water stress factor W_e based on evapotranspiration values.\n",
        "\n",
        "    Parameters:\n",
        "    EET : numpy array\n",
        "        Actual evapotranspiration for each pixel (x) and time (t).\n",
        "    PET : numpy array\n",
        "        Potential evapotranspiration for each pixel (x) and time (t).\n",
        "\n",
        "    Returns:\n",
        "    W_e : numpy array\n",
        "        Water stress factor for each pixel (x) and time (t).\n",
        "    \"\"\"\n",
        "    return (0.5 * (EET / PET)) + 0.5\n",
        "\n",
        "def compute_lue(T_e1, T_e2, W_e, epsilon_star):\n",
        "    \"\"\"\n",
        "    Computes the actual Light Use Efficiency (LUE) based on temperature and water stress factors.\n",
        "\n",
        "    Parameters:\n",
        "    T_e1 : numpy array\n",
        "        Temperature stress factor 1 for each pixel (x) and time (t).\n",
        "    T_e2 : numpy array\n",
        "        Temperature stress factor 2 for each pixel (x) and time (t).\n",
        "    W_e : numpy array\n",
        "        Water stress factor for each pixel (x) and time (t).\n",
        "    epsilon_star : float\n",
        "        Maximum light use efficiency under ideal conditions [g C MJ^-1].\n",
        "\n",
        "    Returns:\n",
        "    epsilon : numpy array\n",
        "        Actual light use efficiency for each pixel (x) and time (t).\n",
        "    \"\"\"\n",
        "    epsilon = T_e1 * T_e2 * W_e * epsilon_star\n",
        "    return epsilon"
      ],
      "metadata": {
        "id": "L8OJEBvp3xIV"
      },
      "execution_count": null,
      "outputs": []
    },
    {
      "cell_type": "code",
      "source": [],
      "metadata": {
        "id": "P1ebIbiF2phd"
      },
      "execution_count": null,
      "outputs": []
    },
    {
      "cell_type": "code",
      "source": [
        "# ETa\n",
        "\n",
        "def calculate_EET(P, Rn):\n",
        "    \"\"\"Calculates Actual Evapotranspiration (EET) using Equation 16.\n",
        "\n",
        "    Args:\n",
        "        P: NumPy array or single value for precipitation (mm).\n",
        "        Rn: NumPy array or single value for net radiation (MJ m-2).\n",
        "\n",
        "    Returns:\n",
        "        NumPy array or single value for calculated EET (mm).\n",
        "        Returns NaN if any input is NaN.\n",
        "        Raises ValueError if input shapes are incompatible for calculations.\n",
        "    \"\"\"\n",
        "\n",
        "    P = np.asarray(P)\n",
        "    Rn = np.asarray(Rn)\n",
        "\n",
        "    # Handle NaN values\n",
        "    if np.isnan(P).any() or np.isnan(Rn).any():\n",
        "        return np.full_like(P, np.nan, dtype=float)\n",
        "\n",
        "    # Check for shape compatibility (broadcasting allowed)\n",
        "    if P.shape != Rn.shape and P.ndim > 0 and Rn.ndim > 0 and not (P.shape == () or Rn.shape == ()):\n",
        "        raise ValueError(\"P and Rn must have compatible shapes for calculations (broadcasting allowed).\")\n",
        "\n",
        "\n",
        "    numerator = P * Rn * (P**2 + Rn**2 + P * Rn)\n",
        "    denominator = (P + Rn) * (P**2 + Rn**2)\n",
        "\n",
        "    # Avoid division by zero\n",
        "    denominator[denominator == 0] = np.nan  # Set 0 values in denominator to NaN\n",
        "\n",
        "    EET = numerator / denominator\n",
        "\n",
        "    return EET"
      ],
      "metadata": {
        "id": "GKDgbPKZULDr"
      },
      "execution_count": null,
      "outputs": []
    },
    {
      "cell_type": "code",
      "source": [
        "# # calculate Rn\n",
        "\n",
        "def calculate_Rn(Epo, P):\n",
        "    \"\"\"Calculates Net Radiation (Rn) using Equation 17.\n",
        "\n",
        "    Args:\n",
        "        Epo: NumPy array or single value for local potential evapotranspiration.\n",
        "        P: NumPy array or single value for precipitation (mm).\n",
        "\n",
        "    Returns:\n",
        "        NumPy array or single value for calculated Rn (MJ m-2).\n",
        "        Returns NaN if any input is NaN or if P is 0.\n",
        "        Raises ValueError if input shapes are incompatible for calculations.\n",
        "    \"\"\"\n",
        "\n",
        "    Epo = np.asarray(Epo)\n",
        "    P = np.asarray(P)\n",
        "\n",
        "    # Handle NaN values\n",
        "    if np.isnan(Epo).any() or np.isnan(P).any():\n",
        "        return np.full_like(Epo, np.nan, dtype=float)\n",
        "\n",
        "     # Check for shape compatibility (broadcasting allowed)\n",
        "    if Epo.shape != P.shape and Epo.ndim > 0 and P.ndim > 0 and not (Epo.shape == () or P.shape == ()):\n",
        "        raise ValueError(\"Epo and P must have compatible shapes for calculations (broadcasting allowed).\")\n",
        "\n",
        "    # Handle P == 0 to avoid division by zero and math domain error\n",
        "    with np.errstate(divide='ignore', invalid='ignore'): # Suppress warnings for division by zero and invalid sqrt\n",
        "        sqrt_term = np.sqrt(Epo / P)\n",
        "        sqrt_term[P == 0] = np.nan # Set results where P==0 to NaN\n",
        "\n",
        "    Rn = np.sqrt(Epo * P) * (0.369 + 0.598 * sqrt_term)\n",
        "\n",
        "    return Rn"
      ],
      "metadata": {
        "id": "oyvSmsv4Blq9"
      },
      "execution_count": null,
      "outputs": []
    },
    {
      "cell_type": "code",
      "source": [],
      "metadata": {
        "id": "JittqFx8B9ol"
      },
      "execution_count": null,
      "outputs": []
    },
    {
      "cell_type": "code",
      "source": [
        "# calculate PET\n",
        "\n",
        "def calculate_PET(Epo, EET):\n",
        "    \"\"\"Calculates Potential Evapotranspiration (PET) using Equation 18.\n",
        "\n",
        "    Args:\n",
        "        Epo: NumPy array or single value for local potential evapotranspiration.\n",
        "        EET: NumPy array or single value for actual evapotranspiration.\n",
        "\n",
        "    Returns:\n",
        "        NumPy array or single value for calculated PET (mm).\n",
        "        Returns NaN if any input is NaN.\n",
        "        Raises ValueError if input shapes are incompatible for calculations.\n",
        "    \"\"\"\n",
        "    Epo = np.asarray(Epo)\n",
        "    EET = np.asarray(EET)\n",
        "\n",
        "    # Handle NaN values\n",
        "    if np.isnan(Epo).any() or np.isnan(EET).any():\n",
        "        return np.full_like(Epo, np.nan, dtype=float)\n",
        "\n",
        "    # Check for shape compatibility (broadcasting allowed)\n",
        "    if Epo.shape != EET.shape and Epo.ndim > 0 and EET.ndim > 0 and not (Epo.shape == () or EET.shape == ()):\n",
        "        raise ValueError(\"Epo and EET must have compatible shapes for calculations (broadcasting allowed).\")\n",
        "\n",
        "    PET = (Epo + EET) / 2\n",
        "\n",
        "    return PET"
      ],
      "metadata": {
        "id": "ikBJkSLdB-L1"
      },
      "execution_count": null,
      "outputs": []
    },
    {
      "cell_type": "code",
      "source": [
        "# calculate NPP\n",
        "\n",
        "def calculate_NPP(APAR, epsilon):\n",
        "    \"\"\"\n",
        "    Calculates Net Primary Productivity (NPP) using the formula: NPP = APAR * epsilon\n",
        "\n",
        "    Args:\n",
        "        APAR: A NumPy array or a single value representing Absorbed Photosynthetically Active Radiation.\n",
        "        epsilon: A NumPy array or a single value representing light use efficiency.\n",
        "\n",
        "    Returns:\n",
        "        A NumPy array or a single value representing the calculated NPP.  Returns NaN if either input is NaN.\n",
        "        Raises a ValueError if the shapes of APAR and epsilon are incompatible for element-wise multiplication.\n",
        "    \"\"\"\n",
        "\n",
        "    APAR = np.asarray(APAR)  # Ensure APAR is a NumPy array\n",
        "    epsilon = np.asarray(epsilon) # Ensure epsilon is a NumPy array\n",
        "\n",
        "    # Handle NaN values: If either input is NaN, the output should also be NaN\n",
        "    if np.isnan(APAR).any() or np.isnan(epsilon).any():\n",
        "       return np.full_like(APAR, np.nan, dtype=float) # Return an array of NaNs of the same shape\n",
        "\n",
        "    # Check for shape compatibility for element-wise multiplication\n",
        "    if APAR.shape != epsilon.shape and APAR.ndim > 0 and epsilon.ndim > 0 and not (APAR.shape == () or epsilon.shape == ()): # Check if both are arrays with at least one dimension and not a scalar\n",
        "        raise ValueError(\"APAR and epsilon must have compatible shapes for element-wise multiplication or one of them needs to be a scalar.\")\n",
        "\n",
        "    NPP = APAR * epsilon  # Perform the calculation\n",
        "\n",
        "    return NPP\n",
        "\n"
      ],
      "metadata": {
        "id": "GebQjO6wSVWk"
      },
      "execution_count": null,
      "outputs": []
    },
    {
      "cell_type": "code",
      "source": [],
      "metadata": {
        "id": "B_YGWjdOxtzD"
      },
      "execution_count": null,
      "outputs": []
    }
  ]
}