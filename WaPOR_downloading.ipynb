{
  "nbformat": 4,
  "nbformat_minor": 0,
  "metadata": {
    "colab": {
      "provenance": [],
      "authorship_tag": "ABX9TyMd6Pcjj1lWqXe73xXcPVpU",
      "include_colab_link": true
    },
    "kernelspec": {
      "name": "python3",
      "display_name": "Python 3"
    },
    "language_info": {
      "name": "python"
    }
  },
  "cells": [
    {
      "cell_type": "markdown",
      "metadata": {
        "id": "view-in-github",
        "colab_type": "text"
      },
      "source": [
        "<a href=\"https://colab.research.google.com/github/wuba2010work/CWP/blob/main/WaPOR_downloading.ipynb\" target=\"_parent\"><img src=\"https://colab.research.google.com/assets/colab-badge.svg\" alt=\"Open In Colab\"/></a>"
      ]
    },
    {
      "cell_type": "code",
      "execution_count": null,
      "metadata": {
        "id": "9AsHfFhTwNv-"
      },
      "outputs": [],
      "source": [
        "# WaPOR data downloading\n",
        "# Step 0 - Install and load necessary packages\n",
        "\n",
        "# As a check we also report the wapordl version you are using (to use to report an issue)\n",
        "\n",
        "%%capture\n",
        "!pip install --upgrade wapordl --quiet"
      ]
    },
    {
      "cell_type": "code",
      "source": [
        "import wapordl\n",
        "print(wapordl.__version__)"
      ],
      "metadata": {
        "id": "KLKJInI8wrvs"
      },
      "execution_count": null,
      "outputs": []
    },
    {
      "cell_type": "code",
      "source": [
        "#Import and load required packages\n",
        "# from osgeo import gdal\n",
        "import glob\n",
        "import os\n",
        "from wapordl import wapor_map\n",
        "from wapordl import wapor_ts"
      ],
      "metadata": {
        "id": "SjztBMnLwxnU"
      },
      "execution_count": null,
      "outputs": []
    },
    {
      "cell_type": "code",
      "source": [
        "# Step 1 - Upload a geojson file to define the boundary of area of interest\n",
        "#To upload file.\n",
        "from google.colab import files\n",
        "uploaded = files.upload()"
      ],
      "metadata": {
        "id": "SzMAcsVUw54I"
      },
      "execution_count": null,
      "outputs": []
    },
    {
      "cell_type": "code",
      "source": [
        "# Step 2 - Use the wapordl package to download raster files for each variable\n",
        "# define region using geojson file (if using a file stored in your google drive, add relative path here)\n",
        "region = r\"/content/Amibara.geojson\"\n",
        "\n",
        "# define region in bounding box\n",
        "#region = [9.23, 40.09, 9.46, 40.25] # [xmin, ymin, xmax, ymax]"
      ],
      "metadata": {
        "id": "aNEGAUOWyN2r"
      },
      "execution_count": null,
      "outputs": []
    },
    {
      "cell_type": "code",
      "source": [
        "#  define the variables and timeperiod to download\n",
        "variables = [\"L2-AETI-D\"] #, #\"L3-T-D\",\"L3-NPP-D\"]\n",
        "period = [\"2024-01-01\", \"2024-12-31\"]\n",
        "overview = \"NONE\"\n",
        "\n",
        "for var in variables:\n",
        "\n",
        "  # 3) Define a folder to save the downloaded rasters (this will create a temporary folder\n",
        "  # called output, if you want the data to be stored somewhere else change the\n",
        "  # path, this requires mounting of the colab script)\n",
        "  folder = r\"/content/output\"+f\"/{var}\"\n",
        "  if not os.path.exists(folder):\n",
        "          os.makedirs(folder)\n",
        "\n",
        "  if('-E' in var):\n",
        "    unit = \"day\"\n",
        "  elif('-D' in var):\n",
        "    unit = \"dekad\"\n",
        "  elif('-M' in var):\n",
        "    unit = \"month\"\n",
        "  elif ('-A' in var):\n",
        "    unit = \"year\"\n",
        "  else:\n",
        "    unit = \"none\"\n",
        "\n",
        "  fps = wapor_map(region, var, period, folder, separate_unscale = True, unit_conversion = unit)"
      ],
      "metadata": {
        "id": "gX_JPYaly6m2"
      },
      "execution_count": null,
      "outputs": []
    },
    {
      "cell_type": "code",
      "source": [
        "# Step 3 - Zip the raster files and download them to local folder\n",
        "!zip -r /content/Amib.zip /content/output\n",
        "from google.colab import files\n",
        "files.download(r'/content/Amib.zip')"
      ],
      "metadata": {
        "id": "8_FE093ID2kr"
      },
      "execution_count": null,
      "outputs": []
    }
  ]
}