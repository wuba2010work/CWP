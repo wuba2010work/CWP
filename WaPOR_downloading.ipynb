{
  "nbformat": 4,
  "nbformat_minor": 0,
  "metadata": {
    "colab": {
      "provenance": [],
      "authorship_tag": "ABX9TyMd6Pcjj1lWqXe73xXcPVpU",
      "include_colab_link": true
    },
    "kernelspec": {
      "name": "python3",
      "display_name": "Python 3"
    },
    "language_info": {
      "name": "python"
    }
  },
  "cells": [
    {
      "cell_type": "markdown",
      "metadata": {
        "id": "view-in-github",
        "colab_type": "text"
      },
      "source": [
        "<a href=\"https://colab.research.google.com/github/wuba2010work/CWP/blob/main/WaPOR_downloading.ipynb\" target=\"_parent\"><img src=\"https://colab.research.google.com/assets/colab-badge.svg\" alt=\"Open In Colab\"/></a>"
      ]
    },
    {
      "cell_type": "code",
      "execution_count": 1,
      "metadata": {
        "id": "9AsHfFhTwNv-"
      },
      "outputs": [],
      "source": [
        "# WaPOR data downloading\n",
        "# Step 0 - Install and load necessary packages\n",
        "\n",
        "# As a check we also report the wapordl version you are using (to use to report an issue)\n",
        "\n",
        "%%capture\n",
        "!pip install --upgrade wapordl --quiet"
      ]
    },
    {
      "cell_type": "code",
      "source": [
        "import wapordl\n",
        "print(wapordl.__version__)"
      ],
      "metadata": {
        "colab": {
          "base_uri": "https://localhost:8080/"
        },
        "id": "KLKJInI8wrvs",
        "outputId": "96ee7e38-d5ad-4f67-f5df-68f7af067313"
      },
      "execution_count": 2,
      "outputs": [
        {
          "output_type": "stream",
          "name": "stderr",
          "text": [
            "INFO: WaPORDL (`1.0.3`)\n"
          ]
        },
        {
          "output_type": "stream",
          "name": "stdout",
          "text": [
            "1.0.3\n"
          ]
        }
      ]
    },
    {
      "cell_type": "code",
      "source": [
        "#Import and load required packages\n",
        "# from osgeo import gdal\n",
        "import glob\n",
        "import os\n",
        "from wapordl import wapor_map\n",
        "from wapordl import wapor_ts"
      ],
      "metadata": {
        "id": "SjztBMnLwxnU"
      },
      "execution_count": 3,
      "outputs": []
    },
    {
      "cell_type": "code",
      "source": [
        "# Step 1 - Upload a geojson file to define the boundary of area of interest\n",
        "#To upload file.\n",
        "from google.colab import files\n",
        "uploaded = files.upload()"
      ],
      "metadata": {
        "colab": {
          "base_uri": "https://localhost:8080/",
          "height": 74
        },
        "id": "SzMAcsVUw54I",
        "outputId": "88e0cd08-2f08-4afa-a189-0350d1ba57c9"
      },
      "execution_count": 4,
      "outputs": [
        {
          "output_type": "display_data",
          "data": {
            "text/plain": [
              "<IPython.core.display.HTML object>"
            ],
            "text/html": [
              "\n",
              "     <input type=\"file\" id=\"files-7fd8a6bd-7110-4981-8f2d-d0e6ce7d3cfc\" name=\"files[]\" multiple disabled\n",
              "        style=\"border:none\" />\n",
              "     <output id=\"result-7fd8a6bd-7110-4981-8f2d-d0e6ce7d3cfc\">\n",
              "      Upload widget is only available when the cell has been executed in the\n",
              "      current browser session. Please rerun this cell to enable.\n",
              "      </output>\n",
              "      <script>// Copyright 2017 Google LLC\n",
              "//\n",
              "// Licensed under the Apache License, Version 2.0 (the \"License\");\n",
              "// you may not use this file except in compliance with the License.\n",
              "// You may obtain a copy of the License at\n",
              "//\n",
              "//      http://www.apache.org/licenses/LICENSE-2.0\n",
              "//\n",
              "// Unless required by applicable law or agreed to in writing, software\n",
              "// distributed under the License is distributed on an \"AS IS\" BASIS,\n",
              "// WITHOUT WARRANTIES OR CONDITIONS OF ANY KIND, either express or implied.\n",
              "// See the License for the specific language governing permissions and\n",
              "// limitations under the License.\n",
              "\n",
              "/**\n",
              " * @fileoverview Helpers for google.colab Python module.\n",
              " */\n",
              "(function(scope) {\n",
              "function span(text, styleAttributes = {}) {\n",
              "  const element = document.createElement('span');\n",
              "  element.textContent = text;\n",
              "  for (const key of Object.keys(styleAttributes)) {\n",
              "    element.style[key] = styleAttributes[key];\n",
              "  }\n",
              "  return element;\n",
              "}\n",
              "\n",
              "// Max number of bytes which will be uploaded at a time.\n",
              "const MAX_PAYLOAD_SIZE = 100 * 1024;\n",
              "\n",
              "function _uploadFiles(inputId, outputId) {\n",
              "  const steps = uploadFilesStep(inputId, outputId);\n",
              "  const outputElement = document.getElementById(outputId);\n",
              "  // Cache steps on the outputElement to make it available for the next call\n",
              "  // to uploadFilesContinue from Python.\n",
              "  outputElement.steps = steps;\n",
              "\n",
              "  return _uploadFilesContinue(outputId);\n",
              "}\n",
              "\n",
              "// This is roughly an async generator (not supported in the browser yet),\n",
              "// where there are multiple asynchronous steps and the Python side is going\n",
              "// to poll for completion of each step.\n",
              "// This uses a Promise to block the python side on completion of each step,\n",
              "// then passes the result of the previous step as the input to the next step.\n",
              "function _uploadFilesContinue(outputId) {\n",
              "  const outputElement = document.getElementById(outputId);\n",
              "  const steps = outputElement.steps;\n",
              "\n",
              "  const next = steps.next(outputElement.lastPromiseValue);\n",
              "  return Promise.resolve(next.value.promise).then((value) => {\n",
              "    // Cache the last promise value to make it available to the next\n",
              "    // step of the generator.\n",
              "    outputElement.lastPromiseValue = value;\n",
              "    return next.value.response;\n",
              "  });\n",
              "}\n",
              "\n",
              "/**\n",
              " * Generator function which is called between each async step of the upload\n",
              " * process.\n",
              " * @param {string} inputId Element ID of the input file picker element.\n",
              " * @param {string} outputId Element ID of the output display.\n",
              " * @return {!Iterable<!Object>} Iterable of next steps.\n",
              " */\n",
              "function* uploadFilesStep(inputId, outputId) {\n",
              "  const inputElement = document.getElementById(inputId);\n",
              "  inputElement.disabled = false;\n",
              "\n",
              "  const outputElement = document.getElementById(outputId);\n",
              "  outputElement.innerHTML = '';\n",
              "\n",
              "  const pickedPromise = new Promise((resolve) => {\n",
              "    inputElement.addEventListener('change', (e) => {\n",
              "      resolve(e.target.files);\n",
              "    });\n",
              "  });\n",
              "\n",
              "  const cancel = document.createElement('button');\n",
              "  inputElement.parentElement.appendChild(cancel);\n",
              "  cancel.textContent = 'Cancel upload';\n",
              "  const cancelPromise = new Promise((resolve) => {\n",
              "    cancel.onclick = () => {\n",
              "      resolve(null);\n",
              "    };\n",
              "  });\n",
              "\n",
              "  // Wait for the user to pick the files.\n",
              "  const files = yield {\n",
              "    promise: Promise.race([pickedPromise, cancelPromise]),\n",
              "    response: {\n",
              "      action: 'starting',\n",
              "    }\n",
              "  };\n",
              "\n",
              "  cancel.remove();\n",
              "\n",
              "  // Disable the input element since further picks are not allowed.\n",
              "  inputElement.disabled = true;\n",
              "\n",
              "  if (!files) {\n",
              "    return {\n",
              "      response: {\n",
              "        action: 'complete',\n",
              "      }\n",
              "    };\n",
              "  }\n",
              "\n",
              "  for (const file of files) {\n",
              "    const li = document.createElement('li');\n",
              "    li.append(span(file.name, {fontWeight: 'bold'}));\n",
              "    li.append(span(\n",
              "        `(${file.type || 'n/a'}) - ${file.size} bytes, ` +\n",
              "        `last modified: ${\n",
              "            file.lastModifiedDate ? file.lastModifiedDate.toLocaleDateString() :\n",
              "                                    'n/a'} - `));\n",
              "    const percent = span('0% done');\n",
              "    li.appendChild(percent);\n",
              "\n",
              "    outputElement.appendChild(li);\n",
              "\n",
              "    const fileDataPromise = new Promise((resolve) => {\n",
              "      const reader = new FileReader();\n",
              "      reader.onload = (e) => {\n",
              "        resolve(e.target.result);\n",
              "      };\n",
              "      reader.readAsArrayBuffer(file);\n",
              "    });\n",
              "    // Wait for the data to be ready.\n",
              "    let fileData = yield {\n",
              "      promise: fileDataPromise,\n",
              "      response: {\n",
              "        action: 'continue',\n",
              "      }\n",
              "    };\n",
              "\n",
              "    // Use a chunked sending to avoid message size limits. See b/62115660.\n",
              "    let position = 0;\n",
              "    do {\n",
              "      const length = Math.min(fileData.byteLength - position, MAX_PAYLOAD_SIZE);\n",
              "      const chunk = new Uint8Array(fileData, position, length);\n",
              "      position += length;\n",
              "\n",
              "      const base64 = btoa(String.fromCharCode.apply(null, chunk));\n",
              "      yield {\n",
              "        response: {\n",
              "          action: 'append',\n",
              "          file: file.name,\n",
              "          data: base64,\n",
              "        },\n",
              "      };\n",
              "\n",
              "      let percentDone = fileData.byteLength === 0 ?\n",
              "          100 :\n",
              "          Math.round((position / fileData.byteLength) * 100);\n",
              "      percent.textContent = `${percentDone}% done`;\n",
              "\n",
              "    } while (position < fileData.byteLength);\n",
              "  }\n",
              "\n",
              "  // All done.\n",
              "  yield {\n",
              "    response: {\n",
              "      action: 'complete',\n",
              "    }\n",
              "  };\n",
              "}\n",
              "\n",
              "scope.google = scope.google || {};\n",
              "scope.google.colab = scope.google.colab || {};\n",
              "scope.google.colab._files = {\n",
              "  _uploadFiles,\n",
              "  _uploadFilesContinue,\n",
              "};\n",
              "})(self);\n",
              "</script> "
            ]
          },
          "metadata": {}
        },
        {
          "output_type": "stream",
          "name": "stdout",
          "text": [
            "Saving Amibara.geojson to Amibara.geojson\n"
          ]
        }
      ]
    },
    {
      "cell_type": "code",
      "source": [
        "# Step 2 - Use the wapordl package to download raster files for each variable\n",
        "# define region using geojson file (if using a file stored in your google drive, add relative path here)\n",
        "region = r\"/content/Amibara.geojson\"\n",
        "\n",
        "# define region in bounding box\n",
        "#region = [9.23, 40.09, 9.46, 40.25] # [xmin, ymin, xmax, ymax]"
      ],
      "metadata": {
        "id": "aNEGAUOWyN2r"
      },
      "execution_count": 5,
      "outputs": []
    },
    {
      "cell_type": "code",
      "source": [
        "#  define the variables and timeperiod to download\n",
        "variables = [\"L2-AETI-D\"] #, #\"L3-T-D\",\"L3-NPP-D\"]\n",
        "period = [\"2024-01-01\", \"2024-12-31\"]\n",
        "overview = \"NONE\"\n",
        "\n",
        "for var in variables:\n",
        "\n",
        "  # 3) Define a folder to save the downloaded rasters (this will create a temporary folder\n",
        "  # called output, if you want the data to be stored somewhere else change the\n",
        "  # path, this requires mounting of the colab script)\n",
        "  folder = r\"/content/output\"+f\"/{var}\"\n",
        "  if not os.path.exists(folder):\n",
        "          os.makedirs(folder)\n",
        "\n",
        "  if('-E' in var):\n",
        "    unit = \"day\"\n",
        "  elif('-D' in var):\n",
        "    unit = \"dekad\"\n",
        "  elif('-M' in var):\n",
        "    unit = \"month\"\n",
        "  elif ('-A' in var):\n",
        "    unit = \"year\"\n",
        "  else:\n",
        "    unit = \"none\"\n",
        "\n",
        "  fps = wapor_map(region, var, period, folder, separate_unscale = True, unit_conversion = unit)"
      ],
      "metadata": {
        "colab": {
          "base_uri": "https://localhost:8080/"
        },
        "id": "gX_JPYaly6m2",
        "outputId": "30e1efb2-d289-4e95-c3b6-53816e4e46c0"
      },
      "execution_count": 6,
      "outputs": [
        {
          "output_type": "stream",
          "name": "stderr",
          "text": [
            "INFO: Found 36 files for L2-AETI-D.\n",
            "INFO: Converting units from [mm/day] to [mm/dekad] (use_xarray = False).\n",
            "INFO: Consider installing `xarray`, `rioxarray` and `dask` for faster unit conversions.\n",
            "INFO: Splitting single GeoTIFF into multiple unscaled files.\n"
          ]
        }
      ]
    },
    {
      "cell_type": "code",
      "source": [
        "# Step 3 - Zip the raster files and download them to local folder\n",
        "!zip -r /content/Amib.zip /content/output\n",
        "from google.colab import files\n",
        "files.download(r'/content/Amib.zip')"
      ],
      "metadata": {
        "colab": {
          "base_uri": "https://localhost:8080/",
          "height": 677
        },
        "id": "8_FE093ID2kr",
        "outputId": "1bb4ed36-dd11-4efc-a742-ad77a3a12f40"
      },
      "execution_count": 7,
      "outputs": [
        {
          "output_type": "stream",
          "name": "stdout",
          "text": [
            "  adding: content/output/ (stored 0%)\n",
            "  adding: content/output/L2-AETI-D/ (stored 0%)\n",
            "  adding: content/output/L2-AETI-D/Amibara_L2-AETI-D_NONE_dekad_converted_2024-06-11.tif (deflated 27%)\n",
            "  adding: content/output/L2-AETI-D/Amibara_L2-AETI-D_NONE_dekad_converted_2024-01-21.tif (deflated 24%)\n",
            "  adding: content/output/L2-AETI-D/Amibara_L2-AETI-D_NONE_dekad_converted_2024-04-11.tif (deflated 27%)\n",
            "  adding: content/output/L2-AETI-D/Amibara_L2-AETI-D_NONE_dekad_converted_2024-07-01.tif (deflated 27%)\n",
            "  adding: content/output/L2-AETI-D/Amibara_L2-AETI-D_NONE_dekad_converted_2024-07-21.tif (deflated 23%)\n",
            "  adding: content/output/L2-AETI-D/Amibara_L2-AETI-D_NONE_dekad_converted_2024-05-11.tif (deflated 27%)\n",
            "  adding: content/output/L2-AETI-D/Amibara_L2-AETI-D_NONE_dekad_converted_2024-10-21.tif (deflated 24%)\n",
            "  adding: content/output/L2-AETI-D/Amibara_L2-AETI-D_NONE_dekad_converted_2024-11-11.tif (deflated 27%)\n",
            "  adding: content/output/L2-AETI-D/Amibara_L2-AETI-D_NONE_dekad_converted_2024-10-01.tif (deflated 28%)\n",
            "  adding: content/output/L2-AETI-D/Amibara_L2-AETI-D_NONE_dekad_converted_2024-05-21.tif (deflated 24%)\n",
            "  adding: content/output/L2-AETI-D/Amibara_L2-AETI-D_NONE_dekad_converted_2024-08-01.tif (deflated 28%)\n",
            "  adding: content/output/L2-AETI-D/Amibara_L2-AETI-D_NONE_dekad_converted_2024-10-11.tif (deflated 27%)\n",
            "  adding: content/output/L2-AETI-D/Amibara_L2-AETI-D_NONE_dekad_converted_2024-02-01.tif (deflated 28%)\n",
            "  adding: content/output/L2-AETI-D/Amibara_L2-AETI-D_NONE_dekad_converted_2024-09-21.tif (deflated 27%)\n",
            "  adding: content/output/L2-AETI-D/Amibara_L2-AETI-D_NONE_dekad_converted_2024-12-21.tif (deflated 24%)\n",
            "  adding: content/output/L2-AETI-D/Amibara_L2-AETI-D_NONE_dekad_converted_2024-04-01.tif (deflated 28%)\n",
            "  adding: content/output/L2-AETI-D/Amibara_L2-AETI-D_NONE_dekad_converted_2024-02-21.tif (deflated 24%)\n",
            "  adding: content/output/L2-AETI-D/Amibara_L2-AETI-D_NONE_dekad_converted_2024-11-01.tif (deflated 28%)\n",
            "  adding: content/output/L2-AETI-D/Amibara_L2-AETI-D_NONE_dekad_converted_2024-07-11.tif (deflated 27%)\n",
            "  adding: content/output/L2-AETI-D/Amibara_L2-AETI-D_NONE_dekad_converted_2024-08-21.tif (deflated 23%)\n",
            "  adding: content/output/L2-AETI-D/Amibara_L2-AETI-D_NONE_dekad_converted_2024-01-01.tif (deflated 28%)\n",
            "  adding: content/output/L2-AETI-D/Amibara_L2-AETI-D_NONE_dekad_converted_2024-06-21.tif (deflated 27%)\n",
            "  adding: content/output/L2-AETI-D/Amibara_L2-AETI-D_NONE_dekad_converted_2024-09-11.tif (deflated 27%)\n",
            "  adding: content/output/L2-AETI-D/Amibara_L2-AETI-D_NONE_dekad_converted_2024-01-11.tif (deflated 28%)\n",
            "  adding: content/output/L2-AETI-D/Amibara_L2-AETI-D_NONE_dekad_converted_2024-12-01.tif (deflated 28%)\n",
            "  adding: content/output/L2-AETI-D/Amibara_L2-AETI-D_NONE_dekad_converted_2024-03-01.tif (deflated 28%)\n",
            "  adding: content/output/L2-AETI-D/Amibara_L2-AETI-D_NONE_dekad_converted_2024-11-21.tif (deflated 28%)\n",
            "  adding: content/output/L2-AETI-D/Amibara_L2-AETI-D_NONE_dekad_converted_2024-12-11.tif (deflated 28%)\n",
            "  adding: content/output/L2-AETI-D/Amibara_L2-AETI-D_NONE_dekad_converted_2024-03-21.tif (deflated 24%)\n",
            "  adding: content/output/L2-AETI-D/Amibara_L2-AETI-D_NONE_dekad_converted_2024-09-01.tif (deflated 27%)\n",
            "  adding: content/output/L2-AETI-D/Amibara_L2-AETI-D_NONE_dekad_converted_2024-08-11.tif (deflated 28%)\n",
            "  adding: content/output/L2-AETI-D/Amibara_L2-AETI-D_NONE_dekad_converted_2024-05-01.tif (deflated 27%)\n",
            "  adding: content/output/L2-AETI-D/Amibara_L2-AETI-D_NONE_dekad_converted_2024-03-11.tif (deflated 27%)\n",
            "  adding: content/output/L2-AETI-D/Amibara_L2-AETI-D_NONE_dekad_converted_2024-06-01.tif (deflated 28%)\n",
            "  adding: content/output/L2-AETI-D/Amibara_L2-AETI-D_NONE_dekad_converted_2024-04-21.tif (deflated 28%)\n",
            "  adding: content/output/L2-AETI-D/Amibara_L2-AETI-D_NONE_dekad_converted_2024-02-11.tif (deflated 28%)\n"
          ]
        },
        {
          "output_type": "display_data",
          "data": {
            "text/plain": [
              "<IPython.core.display.Javascript object>"
            ],
            "application/javascript": [
              "\n",
              "    async function download(id, filename, size) {\n",
              "      if (!google.colab.kernel.accessAllowed) {\n",
              "        return;\n",
              "      }\n",
              "      const div = document.createElement('div');\n",
              "      const label = document.createElement('label');\n",
              "      label.textContent = `Downloading \"${filename}\": `;\n",
              "      div.appendChild(label);\n",
              "      const progress = document.createElement('progress');\n",
              "      progress.max = size;\n",
              "      div.appendChild(progress);\n",
              "      document.body.appendChild(div);\n",
              "\n",
              "      const buffers = [];\n",
              "      let downloaded = 0;\n",
              "\n",
              "      const channel = await google.colab.kernel.comms.open(id);\n",
              "      // Send a message to notify the kernel that we're ready.\n",
              "      channel.send({})\n",
              "\n",
              "      for await (const message of channel.messages) {\n",
              "        // Send a message to notify the kernel that we're ready.\n",
              "        channel.send({})\n",
              "        if (message.buffers) {\n",
              "          for (const buffer of message.buffers) {\n",
              "            buffers.push(buffer);\n",
              "            downloaded += buffer.byteLength;\n",
              "            progress.value = downloaded;\n",
              "          }\n",
              "        }\n",
              "      }\n",
              "      const blob = new Blob(buffers, {type: 'application/binary'});\n",
              "      const a = document.createElement('a');\n",
              "      a.href = window.URL.createObjectURL(blob);\n",
              "      a.download = filename;\n",
              "      div.appendChild(a);\n",
              "      a.click();\n",
              "      div.remove();\n",
              "    }\n",
              "  "
            ]
          },
          "metadata": {}
        },
        {
          "output_type": "display_data",
          "data": {
            "text/plain": [
              "<IPython.core.display.Javascript object>"
            ],
            "application/javascript": [
              "download(\"download_7531546f-ecf9-4b05-9225-0b653a5df702\", \"Amib.zip\", 21229996)"
            ]
          },
          "metadata": {}
        }
      ]
    }
  ]
}